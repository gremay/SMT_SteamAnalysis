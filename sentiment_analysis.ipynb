{
 "cells": [
  {
   "cell_type": "code",
   "execution_count": 565,
   "metadata": {},
   "outputs": [],
   "source": [
    "import numpy as np\n",
    "import pandas as pd\n",
    "import matplotlib.pyplot as plt\n",
    "import seaborn as sns\n",
    "\n",
    "from sklearn.model_selection import train_test_split\n",
    "from sklearn.feature_extraction.text import CountVectorizer, TfidfTransformer\n",
    "from sklearn.linear_model import SGDClassifier\n",
    "from scipy.sparse import csr_matrix\n",
    "from sklearn.model_selection import RandomizedSearchCV\n",
    "from scipy.stats import uniform\n",
    "from sklearn.metrics import confusion_matrix, classification_report\n",
    "\n",
    "from xgboost import XGBClassifier\n",
    "\n",
    "\n"
   ]
  },
  {
   "cell_type": "code",
   "execution_count": 566,
   "metadata": {},
   "outputs": [
    {
     "data": {
      "text/html": [
       "<div>\n",
       "<style scoped>\n",
       "    .dataframe tbody tr th:only-of-type {\n",
       "        vertical-align: middle;\n",
       "    }\n",
       "\n",
       "    .dataframe tbody tr th {\n",
       "        vertical-align: top;\n",
       "    }\n",
       "\n",
       "    .dataframe thead th {\n",
       "        text-align: right;\n",
       "    }\n",
       "</style>\n",
       "<table border=\"1\" class=\"dataframe\">\n",
       "  <thead>\n",
       "    <tr style=\"text-align: right;\">\n",
       "      <th></th>\n",
       "      <th>Unnamed: 0</th>\n",
       "      <th>game_name</th>\n",
       "      <th>review_text</th>\n",
       "      <th>hours_played</th>\n",
       "      <th>rating</th>\n",
       "      <th>found_helpful</th>\n",
       "      <th>product_count</th>\n",
       "      <th>review_date</th>\n",
       "      <th>review_length</th>\n",
       "    </tr>\n",
       "  </thead>\n",
       "  <tbody>\n",
       "    <tr>\n",
       "      <th>0</th>\n",
       "      <td>2</td>\n",
       "      <td>For The Warp</td>\n",
       "      <td>l 2020 EARLY ACCESS REVIEW It has the feel of ...</td>\n",
       "      <td>0.5</td>\n",
       "      <td>0.0</td>\n",
       "      <td>78.0</td>\n",
       "      <td>1004.0</td>\n",
       "      <td>08 April, 2020</td>\n",
       "      <td>973</td>\n",
       "    </tr>\n",
       "    <tr>\n",
       "      <th>1</th>\n",
       "      <td>3</td>\n",
       "      <td>For The Warp</td>\n",
       "      <td>uary 2021 EARLY ACCESS REVIEW This is a tentat...</td>\n",
       "      <td>36.3</td>\n",
       "      <td>1.0</td>\n",
       "      <td>15.0</td>\n",
       "      <td>693.0</td>\n",
       "      <td>10 January, 2021</td>\n",
       "      <td>853</td>\n",
       "    </tr>\n",
       "    <tr>\n",
       "      <th>2</th>\n",
       "      <td>4</td>\n",
       "      <td>For The Warp</td>\n",
       "      <td>uary EARLY ACCESS REVIEW Ultimately disappoint...</td>\n",
       "      <td>26.4</td>\n",
       "      <td>0.0</td>\n",
       "      <td>18.0</td>\n",
       "      <td>937.0</td>\n",
       "      <td>18 January, 2022</td>\n",
       "      <td>724</td>\n",
       "    </tr>\n",
       "    <tr>\n",
       "      <th>3</th>\n",
       "      <td>7</td>\n",
       "      <td>For The Warp</td>\n",
       "      <td>st 2020 EARLY ACCESS REVIEW Like other reviews...</td>\n",
       "      <td>1.7</td>\n",
       "      <td>0.0</td>\n",
       "      <td>30.0</td>\n",
       "      <td>489.0</td>\n",
       "      <td>05 August, 2020</td>\n",
       "      <td>527</td>\n",
       "    </tr>\n",
       "    <tr>\n",
       "      <th>4</th>\n",
       "      <td>9</td>\n",
       "      <td>For The Warp</td>\n",
       "      <td>l FTW doesnt have much of a story If any story...</td>\n",
       "      <td>18.6</td>\n",
       "      <td>0.0</td>\n",
       "      <td>12.0</td>\n",
       "      <td>462.0</td>\n",
       "      <td>06 April, 2022</td>\n",
       "      <td>428</td>\n",
       "    </tr>\n",
       "  </tbody>\n",
       "</table>\n",
       "</div>"
      ],
      "text/plain": [
       "   Unnamed: 0     game_name  \\\n",
       "0           2  For The Warp   \n",
       "1           3  For The Warp   \n",
       "2           4  For The Warp   \n",
       "3           7  For The Warp   \n",
       "4           9  For The Warp   \n",
       "\n",
       "                                         review_text  hours_played  rating  \\\n",
       "0  l 2020 EARLY ACCESS REVIEW It has the feel of ...           0.5     0.0   \n",
       "1  uary 2021 EARLY ACCESS REVIEW This is a tentat...          36.3     1.0   \n",
       "2  uary EARLY ACCESS REVIEW Ultimately disappoint...          26.4     0.0   \n",
       "3  st 2020 EARLY ACCESS REVIEW Like other reviews...           1.7     0.0   \n",
       "4  l FTW doesnt have much of a story If any story...          18.6     0.0   \n",
       "\n",
       "   found_helpful  product_count       review_date  review_length  \n",
       "0           78.0         1004.0    08 April, 2020            973  \n",
       "1           15.0          693.0  10 January, 2021            853  \n",
       "2           18.0          937.0  18 January, 2022            724  \n",
       "3           30.0          489.0   05 August, 2020            527  \n",
       "4           12.0          462.0    06 April, 2022            428  "
      ]
     },
     "execution_count": 566,
     "metadata": {},
     "output_type": "execute_result"
    }
   ],
   "source": [
    "reviews = pd.read_csv('reviews_cleaned.csv', delimiter=\";\")\n",
    "reviews.head()"
   ]
  },
  {
   "cell_type": "code",
   "execution_count": 567,
   "metadata": {},
   "outputs": [
    {
     "name": "stdout",
     "output_type": "stream",
     "text": [
      "<class 'pandas.core.frame.DataFrame'>\n",
      "RangeIndex: 1785 entries, 0 to 1784\n",
      "Data columns (total 9 columns):\n",
      " #   Column         Non-Null Count  Dtype  \n",
      "---  ------         --------------  -----  \n",
      " 0   Unnamed: 0     1785 non-null   int64  \n",
      " 1   game_name      1785 non-null   object \n",
      " 2   review_text    1785 non-null   object \n",
      " 3   hours_played   1785 non-null   float64\n",
      " 4   rating         1785 non-null   float64\n",
      " 5   found_helpful  1785 non-null   float64\n",
      " 6   product_count  1785 non-null   float64\n",
      " 7   review_date    1785 non-null   object \n",
      " 8   review_length  1785 non-null   int64  \n",
      "dtypes: float64(4), int64(2), object(3)\n",
      "memory usage: 125.6+ KB\n"
     ]
    }
   ],
   "source": [
    "reviews.info()"
   ]
  },
  {
   "cell_type": "code",
   "execution_count": 568,
   "metadata": {},
   "outputs": [
    {
     "data": {
      "text/html": [
       "<div>\n",
       "<style scoped>\n",
       "    .dataframe tbody tr th:only-of-type {\n",
       "        vertical-align: middle;\n",
       "    }\n",
       "\n",
       "    .dataframe tbody tr th {\n",
       "        vertical-align: top;\n",
       "    }\n",
       "\n",
       "    .dataframe thead th {\n",
       "        text-align: right;\n",
       "    }\n",
       "</style>\n",
       "<table border=\"1\" class=\"dataframe\">\n",
       "  <thead>\n",
       "    <tr style=\"text-align: right;\">\n",
       "      <th></th>\n",
       "      <th>Unnamed: 0</th>\n",
       "      <th>game_name</th>\n",
       "      <th>review_text</th>\n",
       "      <th>hours_played</th>\n",
       "      <th>rating</th>\n",
       "      <th>found_helpful</th>\n",
       "      <th>product_count</th>\n",
       "      <th>review_date</th>\n",
       "      <th>review_length</th>\n",
       "    </tr>\n",
       "  </thead>\n",
       "  <tbody>\n",
       "    <tr>\n",
       "      <th>661</th>\n",
       "      <td>762</td>\n",
       "      <td>Red Dead Redemption 2</td>\n",
       "      <td>good</td>\n",
       "      <td>9.2</td>\n",
       "      <td>1.0</td>\n",
       "      <td>0.0</td>\n",
       "      <td>28.0</td>\n",
       "      <td>13 May, 2022</td>\n",
       "      <td>5</td>\n",
       "    </tr>\n",
       "    <tr>\n",
       "      <th>673</th>\n",
       "      <td>775</td>\n",
       "      <td>Red Dead Redemption 2</td>\n",
       "      <td>do it</td>\n",
       "      <td>7.1</td>\n",
       "      <td>1.0</td>\n",
       "      <td>0.0</td>\n",
       "      <td>151.0</td>\n",
       "      <td>08 May, 2022</td>\n",
       "      <td>5</td>\n",
       "    </tr>\n",
       "    <tr>\n",
       "      <th>1476</th>\n",
       "      <td>1703</td>\n",
       "      <td>Rust</td>\n",
       "      <td>Good</td>\n",
       "      <td>174.5</td>\n",
       "      <td>1.0</td>\n",
       "      <td>1.0</td>\n",
       "      <td>2.0</td>\n",
       "      <td>10 May, 2022</td>\n",
       "      <td>5</td>\n",
       "    </tr>\n",
       "    <tr>\n",
       "      <th>804</th>\n",
       "      <td>927</td>\n",
       "      <td>Subnautica: Below Zero</td>\n",
       "      <td>AL-AN</td>\n",
       "      <td>22.1</td>\n",
       "      <td>1.0</td>\n",
       "      <td>0.0</td>\n",
       "      <td>33.0</td>\n",
       "      <td>09 May, 2022</td>\n",
       "      <td>5</td>\n",
       "    </tr>\n",
       "    <tr>\n",
       "      <th>1754</th>\n",
       "      <td>2024</td>\n",
       "      <td>Counter-Strike: Global Offensive</td>\n",
       "      <td>633</td>\n",
       "      <td>489.0</td>\n",
       "      <td>1.0</td>\n",
       "      <td>1.0</td>\n",
       "      <td>3.0</td>\n",
       "      <td>10 May, 2022</td>\n",
       "      <td>5</td>\n",
       "    </tr>\n",
       "  </tbody>\n",
       "</table>\n",
       "</div>"
      ],
      "text/plain": [
       "      Unnamed: 0                         game_name review_text  hours_played  \\\n",
       "661          762             Red Dead Redemption 2        good           9.2   \n",
       "673          775             Red Dead Redemption 2       do it           7.1   \n",
       "1476        1703                              Rust        Good         174.5   \n",
       "804          927            Subnautica: Below Zero       AL-AN          22.1   \n",
       "1754        2024  Counter-Strike: Global Offensive         633         489.0   \n",
       "\n",
       "      rating  found_helpful  product_count   review_date  review_length  \n",
       "661      1.0            0.0           28.0  13 May, 2022              5  \n",
       "673      1.0            0.0          151.0  08 May, 2022              5  \n",
       "1476     1.0            1.0            2.0  10 May, 2022              5  \n",
       "804      1.0            0.0           33.0  09 May, 2022              5  \n",
       "1754     1.0            1.0            3.0  10 May, 2022              5  "
      ]
     },
     "execution_count": 568,
     "metadata": {},
     "output_type": "execute_result"
    }
   ],
   "source": [
    "sorted_by_review_length = reviews.sort_values('review_length', axis=0)\n",
    "sorted_by_review_length.head()\n",
    "#I would still keep short reviews because \"good\" indicates positive sentiment already\n"
   ]
  },
  {
   "cell_type": "code",
   "execution_count": 569,
   "metadata": {},
   "outputs": [
    {
     "data": {
      "image/png": "[encoded data removed]",
      "text/plain": [
       "<Figure size 432x288 with 1 Axes>"
      ]
     },
     "metadata": {},
     "output_type": "display_data"
    }
   ],
   "source": [
    "unique_games = reviews.game_name.unique()\n",
    "colors = sns.color_palette('muted', n_colors=10, as_cmap=True)\n",
    "game_dist = reviews.game_name.value_counts()\n",
    "labels = game_dist.index.tolist()\n",
    "plt.pie(game_dist, labels=labels, colors = colors, autopct = '%0.0f%%')\n",
    "plt.show()\n"
   ]
  },
  {
   "cell_type": "code",
   "execution_count": 570,
   "metadata": {},
   "outputs": [
    {
     "data": {
      "image/png": "[encoded data removed]",
      "text/plain": [
       "<Figure size 432x288 with 1 Axes>"
      ]
     },
     "metadata": {},
     "output_type": "display_data"
    }
   ],
   "source": [
    "ratings_dist = reviews.rating.value_counts()\n",
    "labels = ratings_dist.index.tolist()\n",
    "plt.pie(ratings_dist, labels=labels, colors = [\"green\", \"red\"], autopct = '%0.0f%%')\n",
    "plt.show()"
   ]
  },
  {
   "cell_type": "code",
   "execution_count": 571,
   "metadata": {},
   "outputs": [
    {
     "data": {
      "text/plain": [
       "<AxesSubplot:xlabel='game_name'>"
      ]
     },
     "execution_count": 571,
     "metadata": {},
     "output_type": "execute_result"
    },
    {
     "data": {
      "image/png": "[encoded data removed]",
      "text/plain": [
       "<Figure size 432x288 with 1 Axes>"
      ]
     },
     "metadata": {
      "needs_background": "light"
     },
     "output_type": "display_data"
    }
   ],
   "source": [
    "ratings = reviews.groupby(['game_name', 'rating']).rating.count().unstack()\n",
    "ratings.plot(kind='bar')"
   ]
  },
  {
   "cell_type": "code",
   "execution_count": 572,
   "metadata": {},
   "outputs": [
    {
     "data": {
      "text/plain": [
       "((1195, 8), (1195,), (590, 8), (590,))"
      ]
     },
     "execution_count": 572,
     "metadata": {},
     "output_type": "execute_result"
    }
   ],
   "source": [
    "X = reviews.drop('rating', axis=1)\n",
    "y = reviews.rating\n",
    "X_train, X_test, y_train, y_test = train_test_split(X, y, test_size=0.33, random_state=0)\n",
    "\n",
    "X_train.shape, y_train.shape, X_test.shape, y_test.shape\n"
   ]
  },
  {
   "cell_type": "code",
   "execution_count": 573,
   "metadata": {},
   "outputs": [],
   "source": [
    "# Unigram Counts\n",
    "\n",
    "X_train_texts = X_train.review_text\n",
    "\n",
    "unigram_vectorizer = CountVectorizer(ngram_range=(1, 1))\n",
    "unigram_vectorizer.fit(X_train_texts)\n",
    "X_train_unigram = unigram_vectorizer.transform(X_train_texts)\n",
    "\n",
    "\n",
    "# Unigram Tf-Idf\n",
    "\n",
    "unigram_tf_idf_transformer = TfidfTransformer()\n",
    "unigram_tf_idf_transformer.fit(X_train_unigram)\n",
    "\n",
    "X_train_unigram_tf_idf = unigram_tf_idf_transformer.transform(X_train_unigram)\n",
    "\n",
    "\n",
    "# Bigram Counts\n",
    "\n",
    "bigram_vectorizer = CountVectorizer(ngram_range=(1, 2))\n",
    "bigram_vectorizer.fit(X_train_texts)\n",
    "X_train_bigram = bigram_vectorizer.transform(X_train_texts)\n",
    "\n",
    "\n",
    "# Bigram Tf-Idf\n",
    "\n",
    "bigram_tf_idf_transformer = TfidfTransformer()\n",
    "bigram_tf_idf_transformer.fit(X_train_bigram)\n",
    "\n",
    "X_train_bigram_tf_idf = bigram_tf_idf_transformer.transform(X_train_bigram)\n"
   ]
  },
  {
   "cell_type": "code",
   "execution_count": 574,
   "metadata": {},
   "outputs": [
    {
     "name": "stdout",
     "output_type": "stream",
     "text": [
      "Unigram Counts\n",
      "SGDClassifier: Train score: 1.0 ; Validation score: 0.85\n",
      "XGBoostClassifier: Train score: 0.97 ; Validation score: 0.87\n",
      "\n",
      "Unigram Tf-Idf\n",
      "SGDClassifier: Train score: 1.0 ; Validation score: 0.88\n",
      "XGBoostClassifier: Train score: 0.99 ; Validation score: 0.84\n",
      "\n",
      "Bigram Counts\n",
      "SGDClassifier: Train score: 1.0 ; Validation score: 0.87\n",
      "XGBoostClassifier: Train score: 0.97 ; Validation score: 0.86\n",
      "\n",
      "Bigram Tf-Idf\n",
      "SGDClassifier: Train score: 1.0 ; Validation score: 0.88\n",
      "XGBoostClassifier: Train score: 0.98 ; Validation score: 0.85\n",
      "\n"
     ]
    }
   ],
   "source": [
    "def train_and_show_scores(X: csr_matrix, y: np.array, title: str) -> None:\n",
    "    X_train, X_valid, y_train, y_valid = train_test_split(\n",
    "        X, y, train_size=0.8, stratify=y\n",
    "    )\n",
    "\n",
    "    clf = SGDClassifier()\n",
    "    clf.fit(X_train, y_train)\n",
    "    train_score = clf.score(X_train, y_train)\n",
    "    valid_score = clf.score(X_valid, y_valid)\n",
    "    print(f'{title}\\nSGDClassifier: Train score: {round(train_score, 2)} ; Validation score: {round(valid_score, 2)}')\n",
    "\n",
    "    clf = XGBClassifier()\n",
    "    clf.fit(X_train, y_train)\n",
    "    train_score = clf.score(X_train, y_train)\n",
    "    valid_score = clf.score(X_valid, y_valid)\n",
    "    print(f'XGBoostClassifier: Train score: {round(train_score, 2)} ; Validation score: {round(valid_score, 2)}\\n')\n",
    "\n",
    "train_and_show_scores(X_train_unigram, y_train, 'Unigram Counts')\n",
    "train_and_show_scores(X_train_unigram_tf_idf, y_train, 'Unigram Tf-Idf')\n",
    "train_and_show_scores(X_train_bigram, y_train, 'Bigram Counts')\n",
    "train_and_show_scores(X_train_bigram_tf_idf, y_train, 'Bigram Tf-Idf')"
   ]
  },
  {
   "cell_type": "code",
   "execution_count": 575,
   "metadata": {},
   "outputs": [
    {
     "name": "stderr",
     "output_type": "stream",
     "text": [
      "/usr/local/lib64/python3.8/site-packages/sklearn/linear_model/_stochastic_gradient.py:574: ConvergenceWarning: Maximum number of iteration reached before convergence. Consider increasing max_iter to improve the fit.\n",
      "  warnings.warn(\"Maximum number of iteration reached before \"\n"
     ]
    },
    {
     "name": "stdout",
     "output_type": "stream",
     "text": [
      "Best params: {'alpha': 3.481862433418501e-05, 'eta0': 0.007395048505894688, 'learning_rate': 'optimal', 'loss': 'perceptron', 'penalty': 'l1'}\n",
      "Best score: 0.8803347280334728\n"
     ]
    }
   ],
   "source": [
    "x_train_transformed = X_train_bigram_tf_idf #this had the best validation score (88%)\n",
    "clf = SGDClassifier()\n",
    "\n",
    "distributions = dict(\n",
    "    penalty=['l1', 'l2', 'elasticnet'],\n",
    "    alpha=uniform(loc=1e-6, scale=1e-4),\n",
    "    loss=['hinge', 'log', 'modified_huber', 'squared_hinge', 'perceptron'],\n",
    "    learning_rate=['optimal', 'invscaling', 'adaptive'],\n",
    "    eta0=uniform(loc=1e-7, scale=1e-2)\n",
    ")\n",
    "\n",
    "random_search_cv = RandomizedSearchCV(\n",
    "    estimator=clf,\n",
    "    param_distributions=distributions,\n",
    "    cv=5,\n",
    "    n_iter=50,\n",
    "    n_jobs = -1,\n",
    ")\n",
    "random_search_cv.fit(x_train_transformed, y_train)\n",
    "print(f'Best params: {random_search_cv.best_params_}')\n",
    "print(f'Best score: {random_search_cv.best_score_}')"
   ]
  },
  {
   "cell_type": "code",
   "execution_count": 576,
   "metadata": {},
   "outputs": [
    {
     "name": "stdout",
     "output_type": "stream",
     "text": [
      "Test score SGD:  0.8355932203389831\n"
     ]
    }
   ],
   "source": [
    "sgd_classifier = random_search_cv.best_estimator_\n",
    "\n",
    "#transform test data\n",
    "x_test_transformed = bigram_vectorizer.transform(X_test.review_text)\n",
    "x_test_transformed = bigram_tf_idf_transformer.transform(x_test_transformed)\n",
    "\n",
    "#test score\n",
    "score = sgd_classifier.score(x_test_transformed, y_test)\n",
    "print(\"Test score SGD: \", score)\n"
   ]
  },
  {
   "cell_type": "code",
   "execution_count": 577,
   "metadata": {},
   "outputs": [
    {
     "name": "stdout",
     "output_type": "stream",
     "text": [
      "Test score XGB:  0.8152542372881356\n"
     ]
    }
   ],
   "source": [
    "\n",
    "clf = XGBClassifier()\n",
    "clf.fit(x_train_transformed, y_train)\n",
    "score = clf.score(x_test_transformed, y_test)\n",
    "print(\"Test score XGB: \", score)\n"
   ]
  },
  {
   "cell_type": "code",
   "execution_count": 578,
   "metadata": {},
   "outputs": [
    {
     "data": {
      "text/plain": [
       "\"\\nparams = {\\n 'learning_rate' : [0.05,0.10,0.15,0.20,0.25,0.30],\\n 'max_depth' : [ 3, 4, 5, 6, 8, 10, 12, 15],\\n 'min_child_weight' : [ 1, 3, 5, 7 ],\\n 'gamma': [ 0.0, 0.1, 0.2 , 0.3, 0.4 ],\\n 'colsample_bytree' : [ 0.3, 0.4, 0.5 , 0.7 ]\\n}\\n\\nrandom_search_cv = RandomizedSearchCV(\\n    estimator=clf,\\n    param_distributions=params,\\n    cv=5,\\n    n_iter=5\\n)\\nrandom_search_cv.fit(x_train_transformed, y_train)\\nprint(f'Best params: {random_search_cv.best_params_}')\\nprint(f'Best score: {random_search_cv.best_score_}')\\n\\nxgb_classifier = random_search_cv.best_estimator_\\n\\n#test score\\nscore = xgb_classifier.score(x_test_transformed, y_test)\\nprint(score)\\n\""
      ]
     },
     "execution_count": 578,
     "metadata": {},
     "output_type": "execute_result"
    }
   ],
   "source": [
    "'''\n",
    "params = {\n",
    " 'learning_rate' : [0.05,0.10,0.15,0.20,0.25,0.30],\n",
    " 'max_depth' : [ 3, 4, 5, 6, 8, 10, 12, 15],\n",
    " 'min_child_weight' : [ 1, 3, 5, 7 ],\n",
    " 'gamma': [ 0.0, 0.1, 0.2 , 0.3, 0.4 ],\n",
    " 'colsample_bytree' : [ 0.3, 0.4, 0.5 , 0.7 ]\n",
    "}\n",
    "\n",
    "random_search_cv = RandomizedSearchCV(\n",
    "    estimator=clf,\n",
    "    param_distributions=params,\n",
    "    cv=5,\n",
    "    n_iter=5\n",
    ")\n",
    "random_search_cv.fit(x_train_transformed, y_train)\n",
    "print(f'Best params: {random_search_cv.best_params_}')\n",
    "print(f'Best score: {random_search_cv.best_score_}')\n",
    "\n",
    "xgb_classifier = random_search_cv.best_estimator_\n",
    "\n",
    "#test score\n",
    "score = xgb_classifier.score(x_test_transformed, y_test)\n",
    "print(score)\n",
    "'''"
   ]
  },
  {
   "cell_type": "code",
   "execution_count": 579,
   "metadata": {},
   "outputs": [
    {
     "name": "stdout",
     "output_type": "stream",
     "text": [
      "Confusion Matrix\n",
      "[[ 60  53]\n",
      " [ 44 433]]\n"
     ]
    },
    {
     "data": {
      "image/png": "[encoded data removed]",
      "text/plain": [
       "<Figure size 432x288 with 2 Axes>"
      ]
     },
     "metadata": {
      "needs_background": "light"
     },
     "output_type": "display_data"
    },
    {
     "name": "stdout",
     "output_type": "stream",
     "text": [
      "\n",
      "Classification Report\n",
      "              precision    recall  f1-score   support\n",
      "\n",
      "         0.0       0.58      0.53      0.55       113\n",
      "         1.0       0.89      0.91      0.90       477\n",
      "\n",
      "    accuracy                           0.84       590\n",
      "   macro avg       0.73      0.72      0.73       590\n",
      "weighted avg       0.83      0.84      0.83       590\n",
      "\n"
     ]
    }
   ],
   "source": [
    "y_pred = sgd_classifier.predict(x_test_transformed)\n",
    "\n",
    "print(\"Confusion Matrix\")\n",
    "cf_matrix = confusion_matrix(y_test, y_pred)\n",
    "print(cf_matrix)\n",
    "\n",
    "ax = sns.heatmap(cf_matrix, annot=True, cmap='Blues')\n",
    "\n",
    "ax.set_title('Confusion Matrix with labels\\n\\n')\n",
    "ax.set_xlabel('\\nPredicted Values')\n",
    "ax.set_ylabel('Actual Values ')\n",
    "\n",
    "## Ticket labels - List must be in alphabetical order\n",
    "ax.xaxis.set_ticklabels(['Negative','Positive'])\n",
    "ax.yaxis.set_ticklabels(['Negative','Positive'])\n",
    "\n",
    "## Display the visualization of the Confusion Matrix.\n",
    "plt.show()\n",
    "\n",
    "# Classification Report\n",
    "print(\"\\nClassification Report\")\n",
    "report = classification_report(y_test, y_pred)\n",
    "print(report)\n"
   ]
  },
  {
   "cell_type": "code",
   "execution_count": 580,
   "metadata": {},
   "outputs": [
    {
     "data": {
      "text/html": [
       "<div>\n",
       "<style scoped>\n",
       "    .dataframe tbody tr th:only-of-type {\n",
       "        vertical-align: middle;\n",
       "    }\n",
       "\n",
       "    .dataframe tbody tr th {\n",
       "        vertical-align: top;\n",
       "    }\n",
       "\n",
       "    .dataframe thead th {\n",
       "        text-align: right;\n",
       "    }\n",
       "</style>\n",
       "<table border=\"1\" class=\"dataframe\">\n",
       "  <thead>\n",
       "    <tr style=\"text-align: right;\">\n",
       "      <th></th>\n",
       "      <th>game_name</th>\n",
       "      <th>prediction</th>\n",
       "      <th>true</th>\n",
       "    </tr>\n",
       "  </thead>\n",
       "  <tbody>\n",
       "    <tr>\n",
       "      <th>0</th>\n",
       "      <td>We Were Here Forever</td>\n",
       "      <td>0.0</td>\n",
       "      <td>1.0</td>\n",
       "    </tr>\n",
       "    <tr>\n",
       "      <th>1</th>\n",
       "      <td>We Were Here Forever</td>\n",
       "      <td>0.0</td>\n",
       "      <td>1.0</td>\n",
       "    </tr>\n",
       "    <tr>\n",
       "      <th>2</th>\n",
       "      <td>We Were Here Forever</td>\n",
       "      <td>1.0</td>\n",
       "      <td>0.0</td>\n",
       "    </tr>\n",
       "    <tr>\n",
       "      <th>3</th>\n",
       "      <td>Red Dead Redemption 2</td>\n",
       "      <td>1.0</td>\n",
       "      <td>0.0</td>\n",
       "    </tr>\n",
       "    <tr>\n",
       "      <th>4</th>\n",
       "      <td>Red Dead Redemption 2</td>\n",
       "      <td>1.0</td>\n",
       "      <td>0.0</td>\n",
       "    </tr>\n",
       "  </tbody>\n",
       "</table>\n",
       "</div>"
      ],
      "text/plain": [
       "               game_name  prediction  true\n",
       "0   We Were Here Forever         0.0   1.0\n",
       "1   We Were Here Forever         0.0   1.0\n",
       "2   We Were Here Forever         1.0   0.0\n",
       "3  Red Dead Redemption 2         1.0   0.0\n",
       "4  Red Dead Redemption 2         1.0   0.0"
      ]
     },
     "execution_count": 580,
     "metadata": {},
     "output_type": "execute_result"
    }
   ],
   "source": [
    "#let's see if there's games that get mispredicted more or less often\n",
    "games = reviews.game_name\n",
    "X_test.shape, y_pred.shape, y_test.shape\n",
    "\n",
    "game_names = []\n",
    "y_pred_list = []\n",
    "y_true_list = []\n",
    "\n",
    "for x, y_predictions, y_true in zip(X_test.game_name, y_pred, y_test):\n",
    "    if(y_predictions != y_true):\n",
    "        game_names.append(x)\n",
    "        y_pred_list.append(y_predictions)\n",
    "        y_true_list.append(y_true)\n",
    "\n",
    "d = {'game_name': game_names, 'prediction': y_pred_list, 'true': y_true_list}\n",
    "false_preds = pd.DataFrame(data=d)\n",
    "\n",
    "false_preds.head()\n"
   ]
  },
  {
   "cell_type": "code",
   "execution_count": 581,
   "metadata": {},
   "outputs": [
    {
     "name": "stdout",
     "output_type": "stream",
     "text": [
      "Rust                                16\n",
      "Red Dead Redemption 2               15\n",
      "For The Warp                        12\n",
      "We Were Here Forever                11\n",
      "Ultimate Epic Battle Simulator 2    11\n",
      "Songs of Conquest                    7\n",
      "ELDEN RING                           7\n",
      "Counter-Strike: Global Offensive     7\n",
      "Titanfall® 2                         6\n",
      "Subnautica: Below Zero               5\n",
      "Name: game_name, dtype: int64\n"
     ]
    },
    {
     "data": {
      "image/png": "[encoded data removed]",
      "text/plain": [
       "<Figure size 432x288 with 1 Axes>"
      ]
     },
     "metadata": {
      "needs_background": "light"
     },
     "output_type": "display_data"
    }
   ],
   "source": [
    "unique_games = false_preds.game_name.unique()\n",
    "game_dist = false_preds.game_name.value_counts()\n",
    "labels = game_dist.index.tolist()\n",
    "\n",
    "print(game_dist)\n",
    "\n",
    "plt.barh(range(0, len(unique_games)), width=game_dist.values, tick_label=labels)\n",
    "plt.show()\n",
    "\n"
   ]
  },
  {
   "cell_type": "code",
   "execution_count": 582,
   "metadata": {},
   "outputs": [
    {
     "data": {
      "text/html": [
       "<div>\n",
       "<style scoped>\n",
       "    .dataframe tbody tr th:only-of-type {\n",
       "        vertical-align: middle;\n",
       "    }\n",
       "\n",
       "    .dataframe tbody tr th {\n",
       "        vertical-align: top;\n",
       "    }\n",
       "\n",
       "    .dataframe thead th {\n",
       "        text-align: right;\n",
       "    }\n",
       "</style>\n",
       "<table border=\"1\" class=\"dataframe\">\n",
       "  <thead>\n",
       "    <tr style=\"text-align: right;\">\n",
       "      <th></th>\n",
       "      <th>Unnamed: 0</th>\n",
       "      <th>game_name</th>\n",
       "      <th>review_text</th>\n",
       "      <th>hours_played</th>\n",
       "      <th>rating</th>\n",
       "      <th>found_helpful</th>\n",
       "      <th>product_count</th>\n",
       "      <th>review_date</th>\n",
       "      <th>review_length</th>\n",
       "      <th>review_date_object</th>\n",
       "      <th>review_year</th>\n",
       "    </tr>\n",
       "  </thead>\n",
       "  <tbody>\n",
       "    <tr>\n",
       "      <th>0</th>\n",
       "      <td>2</td>\n",
       "      <td>For The Warp</td>\n",
       "      <td>l 2020 EARLY ACCESS REVIEW It has the feel of ...</td>\n",
       "      <td>0.5</td>\n",
       "      <td>0.0</td>\n",
       "      <td>78.0</td>\n",
       "      <td>1004.0</td>\n",
       "      <td>08 April, 2020</td>\n",
       "      <td>973</td>\n",
       "      <td>2020-04-08</td>\n",
       "      <td>2020</td>\n",
       "    </tr>\n",
       "    <tr>\n",
       "      <th>1</th>\n",
       "      <td>3</td>\n",
       "      <td>For The Warp</td>\n",
       "      <td>uary 2021 EARLY ACCESS REVIEW This is a tentat...</td>\n",
       "      <td>36.3</td>\n",
       "      <td>1.0</td>\n",
       "      <td>15.0</td>\n",
       "      <td>693.0</td>\n",
       "      <td>10 January, 2021</td>\n",
       "      <td>853</td>\n",
       "      <td>2021-01-10</td>\n",
       "      <td>2021</td>\n",
       "    </tr>\n",
       "    <tr>\n",
       "      <th>2</th>\n",
       "      <td>4</td>\n",
       "      <td>For The Warp</td>\n",
       "      <td>uary EARLY ACCESS REVIEW Ultimately disappoint...</td>\n",
       "      <td>26.4</td>\n",
       "      <td>0.0</td>\n",
       "      <td>18.0</td>\n",
       "      <td>937.0</td>\n",
       "      <td>18 January, 2022</td>\n",
       "      <td>724</td>\n",
       "      <td>2022-01-18</td>\n",
       "      <td>2022</td>\n",
       "    </tr>\n",
       "    <tr>\n",
       "      <th>3</th>\n",
       "      <td>7</td>\n",
       "      <td>For The Warp</td>\n",
       "      <td>st 2020 EARLY ACCESS REVIEW Like other reviews...</td>\n",
       "      <td>1.7</td>\n",
       "      <td>0.0</td>\n",
       "      <td>30.0</td>\n",
       "      <td>489.0</td>\n",
       "      <td>05 August, 2020</td>\n",
       "      <td>527</td>\n",
       "      <td>2020-08-05</td>\n",
       "      <td>2020</td>\n",
       "    </tr>\n",
       "    <tr>\n",
       "      <th>4</th>\n",
       "      <td>9</td>\n",
       "      <td>For The Warp</td>\n",
       "      <td>l FTW doesnt have much of a story If any story...</td>\n",
       "      <td>18.6</td>\n",
       "      <td>0.0</td>\n",
       "      <td>12.0</td>\n",
       "      <td>462.0</td>\n",
       "      <td>06 April, 2022</td>\n",
       "      <td>428</td>\n",
       "      <td>2022-04-06</td>\n",
       "      <td>2022</td>\n",
       "    </tr>\n",
       "    <tr>\n",
       "      <th>...</th>\n",
       "      <td>...</td>\n",
       "      <td>...</td>\n",
       "      <td>...</td>\n",
       "      <td>...</td>\n",
       "      <td>...</td>\n",
       "      <td>...</td>\n",
       "      <td>...</td>\n",
       "      <td>...</td>\n",
       "      <td>...</td>\n",
       "      <td>...</td>\n",
       "      <td>...</td>\n",
       "    </tr>\n",
       "    <tr>\n",
       "      <th>1780</th>\n",
       "      <td>2059</td>\n",
       "      <td>Counter-Strike: Global Offensive</td>\n",
       "      <td>Fun To play with friends</td>\n",
       "      <td>798.6</td>\n",
       "      <td>1.0</td>\n",
       "      <td>1.0</td>\n",
       "      <td>9.0</td>\n",
       "      <td>09 May, 2022</td>\n",
       "      <td>24</td>\n",
       "      <td>2022-05-09</td>\n",
       "      <td>2022</td>\n",
       "    </tr>\n",
       "    <tr>\n",
       "      <th>1781</th>\n",
       "      <td>2060</td>\n",
       "      <td>Counter-Strike: Global Offensive</td>\n",
       "      <td>very addictive</td>\n",
       "      <td>105.3</td>\n",
       "      <td>1.0</td>\n",
       "      <td>1.0</td>\n",
       "      <td>2.0</td>\n",
       "      <td>09 May, 2022</td>\n",
       "      <td>14</td>\n",
       "      <td>2022-05-09</td>\n",
       "      <td>2022</td>\n",
       "    </tr>\n",
       "    <tr>\n",
       "      <th>1782</th>\n",
       "      <td>2063</td>\n",
       "      <td>Counter-Strike: Global Offensive</td>\n",
       "      <td>I learned a lot of racial slurs and got a 30-d...</td>\n",
       "      <td>428.0</td>\n",
       "      <td>1.0</td>\n",
       "      <td>1.0</td>\n",
       "      <td>3.0</td>\n",
       "      <td>09 May, 2022</td>\n",
       "      <td>77</td>\n",
       "      <td>2022-05-09</td>\n",
       "      <td>2022</td>\n",
       "    </tr>\n",
       "    <tr>\n",
       "      <th>1783</th>\n",
       "      <td>2064</td>\n",
       "      <td>Counter-Strike: Global Offensive</td>\n",
       "      <td>1/10 cant alt+f4</td>\n",
       "      <td>78.4</td>\n",
       "      <td>0.0</td>\n",
       "      <td>1.0</td>\n",
       "      <td>126.0</td>\n",
       "      <td>09 May, 2022</td>\n",
       "      <td>17</td>\n",
       "      <td>2022-05-09</td>\n",
       "      <td>2022</td>\n",
       "    </tr>\n",
       "    <tr>\n",
       "      <th>1784</th>\n",
       "      <td>2065</td>\n",
       "      <td>Counter-Strike: Global Offensive</td>\n",
       "      <td>I get 3 draws 1 win 1 loss 7 wins and no  rank...</td>\n",
       "      <td>864.0</td>\n",
       "      <td>0.0</td>\n",
       "      <td>1.0</td>\n",
       "      <td>17.0</td>\n",
       "      <td>09 May, 2022</td>\n",
       "      <td>196</td>\n",
       "      <td>2022-05-09</td>\n",
       "      <td>2022</td>\n",
       "    </tr>\n",
       "  </tbody>\n",
       "</table>\n",
       "<p>1785 rows × 11 columns</p>\n",
       "</div>"
      ],
      "text/plain": [
       "      Unnamed: 0                         game_name  \\\n",
       "0              2                      For The Warp   \n",
       "1              3                      For The Warp   \n",
       "2              4                      For The Warp   \n",
       "3              7                      For The Warp   \n",
       "4              9                      For The Warp   \n",
       "...          ...                               ...   \n",
       "1780        2059  Counter-Strike: Global Offensive   \n",
       "1781        2060  Counter-Strike: Global Offensive   \n",
       "1782        2063  Counter-Strike: Global Offensive   \n",
       "1783        2064  Counter-Strike: Global Offensive   \n",
       "1784        2065  Counter-Strike: Global Offensive   \n",
       "\n",
       "                                            review_text  hours_played  rating  \\\n",
       "0     l 2020 EARLY ACCESS REVIEW It has the feel of ...           0.5     0.0   \n",
       "1     uary 2021 EARLY ACCESS REVIEW This is a tentat...          36.3     1.0   \n",
       "2     uary EARLY ACCESS REVIEW Ultimately disappoint...          26.4     0.0   \n",
       "3     st 2020 EARLY ACCESS REVIEW Like other reviews...           1.7     0.0   \n",
       "4     l FTW doesnt have much of a story If any story...          18.6     0.0   \n",
       "...                                                 ...           ...     ...   \n",
       "1780                           Fun To play with friends         798.6     1.0   \n",
       "1781                                     very addictive         105.3     1.0   \n",
       "1782  I learned a lot of racial slurs and got a 30-d...         428.0     1.0   \n",
       "1783                                   1/10 cant alt+f4          78.4     0.0   \n",
       "1784  I get 3 draws 1 win 1 loss 7 wins and no  rank...         864.0     0.0   \n",
       "\n",
       "      found_helpful  product_count       review_date  review_length  \\\n",
       "0              78.0         1004.0    08 April, 2020            973   \n",
       "1              15.0          693.0  10 January, 2021            853   \n",
       "2              18.0          937.0  18 January, 2022            724   \n",
       "3              30.0          489.0   05 August, 2020            527   \n",
       "4              12.0          462.0    06 April, 2022            428   \n",
       "...             ...            ...               ...            ...   \n",
       "1780            1.0            9.0      09 May, 2022             24   \n",
       "1781            1.0            2.0      09 May, 2022             14   \n",
       "1782            1.0            3.0      09 May, 2022             77   \n",
       "1783            1.0          126.0      09 May, 2022             17   \n",
       "1784            1.0           17.0      09 May, 2022            196   \n",
       "\n",
       "     review_date_object  review_year  \n",
       "0            2020-04-08         2020  \n",
       "1            2021-01-10         2021  \n",
       "2            2022-01-18         2022  \n",
       "3            2020-08-05         2020  \n",
       "4            2022-04-06         2022  \n",
       "...                 ...          ...  \n",
       "1780         2022-05-09         2022  \n",
       "1781         2022-05-09         2022  \n",
       "1782         2022-05-09         2022  \n",
       "1783         2022-05-09         2022  \n",
       "1784         2022-05-09         2022  \n",
       "\n",
       "[1785 rows x 11 columns]"
      ]
     },
     "execution_count": 582,
     "metadata": {},
     "output_type": "execute_result"
    }
   ],
   "source": [
    "from datetime import datetime\n",
    "\n",
    "def get_date_object (date_string):\n",
    "    date_time_obj = datetime.strptime(date_string, '%d %B, %Y')\n",
    "    return date_time_obj\n",
    "\n",
    "def get_year (date_object):\n",
    "    return date_object.year\n",
    "\n",
    "reviews['review_date_object'] = reviews.review_date.apply(get_date_object)\n",
    "reviews['review_year'] = reviews.review_date_object.apply(get_year)\n",
    "\n",
    "reviews"
   ]
  },
  {
   "cell_type": "code",
   "execution_count": 583,
   "metadata": {},
   "outputs": [
    {
     "data": {
      "text/plain": [
       "\"\\nratings = reviews.groupby(['game_name', 'review_year']).rating.mean().unstack\\nratings\\n\\nreviews.groupby(by=[reviews.review_date_object.dt.year, reviews.review_date_object.dt.month, reviews.game_name]).mean()\\n\""
      ]
     },
     "execution_count": 583,
     "metadata": {},
     "output_type": "execute_result"
    }
   ],
   "source": [
    "'''\n",
    "ratings = reviews.groupby(['game_name', 'review_year']).rating.mean().unstack\n",
    "ratings\n",
    "\n",
    "reviews.groupby(by=[reviews.review_date_object.dt.year, reviews.review_date_object.dt.month, reviews.game_name]).mean()\n",
    "'''"
   ]
  }
 ],
 "metadata": {
  "interpreter": {
   "hash": "e7370f93d1d0cde622a1f8e1c04877d8463912d04d973331ad4851f04de6915a"
  },
  "kernelspec": {
   "display_name": "Python 3.8.5 64-bit",
   "language": "python",
   "name": "python3"
  },
  "language_info": {
   "codemirror_mode": {
    "name": "ipython",
    "version": 3
   },
   "file_extension": ".py",
   "mimetype": "text/x-python",
   "name": "python",
   "nbconvert_exporter": "python",
   "pygments_lexer": "ipython3",
   "version": "3.8.5"
  },
  "orig_nbformat": 4
 },
 "nbformat": 4,
 "nbformat_minor": 2
}

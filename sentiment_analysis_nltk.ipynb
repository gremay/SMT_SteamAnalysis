{
 "cells": [
  {
   "cell_type": "code",
   "execution_count": 141,
   "metadata": {},
   "outputs": [
    {
     "name": "stderr",
     "output_type": "stream",
     "text": [
      "[nltk_data] Downloading package names to /home/manfred/nltk_data...\n",
      "[nltk_data]   Package names is already up-to-date!\n",
      "[nltk_data] Downloading package stopwords to\n",
      "[nltk_data]     /home/manfred/nltk_data...\n",
      "[nltk_data]   Package stopwords is already up-to-date!\n",
      "[nltk_data] Downloading package averaged_perceptron_tagger to\n",
      "[nltk_data]     /home/manfred/nltk_data...\n",
      "[nltk_data]   Package averaged_perceptron_tagger is already up-to-\n",
      "[nltk_data]       date!\n",
      "[nltk_data] Downloading package vader_lexicon to\n",
      "[nltk_data]     /home/manfred/nltk_data...\n",
      "[nltk_data]   Package vader_lexicon is already up-to-date!\n",
      "[nltk_data] Downloading package punkt to /home/manfred/nltk_data...\n",
      "[nltk_data]   Package punkt is already up-to-date!\n"
     ]
    }
   ],
   "source": [
    "import nltk\n",
    "\n",
    "nltk.download([\n",
    "\"names\",\n",
    "     \"stopwords\",\n",
    "     \"averaged_perceptron_tagger\",\n",
    "     \"vader_lexicon\",\n",
    "     \"punkt\",\n",
    " ])\n",
    "\n",
    "import numpy as np\n",
    "import pandas as pd\n",
    "import matplotlib.pyplot as plt\n",
    "from sklearn.model_selection import train_test_split\n",
    "from sklearn.metrics import confusion_matrix, classification_report\n",
    "\n",
    "import seaborn as sns\n",
    "\n"
   ]
  },
  {
   "cell_type": "code",
   "execution_count": 142,
   "metadata": {},
   "outputs": [
    {
     "data": {
      "text/html": [
       "<div>\n",
       "<style scoped>\n",
       "    .dataframe tbody tr th:only-of-type {\n",
       "        vertical-align: middle;\n",
       "    }\n",
       "\n",
       "    .dataframe tbody tr th {\n",
       "        vertical-align: top;\n",
       "    }\n",
       "\n",
       "    .dataframe thead th {\n",
       "        text-align: right;\n",
       "    }\n",
       "</style>\n",
       "<table border=\"1\" class=\"dataframe\">\n",
       "  <thead>\n",
       "    <tr style=\"text-align: right;\">\n",
       "      <th></th>\n",
       "      <th>Unnamed: 0</th>\n",
       "      <th>game_name</th>\n",
       "      <th>review_text</th>\n",
       "      <th>hours_played</th>\n",
       "      <th>rating</th>\n",
       "      <th>found_helpful</th>\n",
       "      <th>product_count</th>\n",
       "      <th>review_date</th>\n",
       "      <th>early_access</th>\n",
       "      <th>review_length</th>\n",
       "    </tr>\n",
       "  </thead>\n",
       "  <tbody>\n",
       "    <tr>\n",
       "      <th>0</th>\n",
       "      <td>0</td>\n",
       "      <td>For The Warp</td>\n",
       "      <td>good game i feel the graphics vibe of into the...</td>\n",
       "      <td>10.9</td>\n",
       "      <td>1.0</td>\n",
       "      <td>0.0</td>\n",
       "      <td>127.0</td>\n",
       "      <td>12 September, 2021</td>\n",
       "      <td>True</td>\n",
       "      <td>441</td>\n",
       "    </tr>\n",
       "    <tr>\n",
       "      <th>1</th>\n",
       "      <td>1</td>\n",
       "      <td>For The Warp</td>\n",
       "      <td>brilliant little game had so much fun with it ...</td>\n",
       "      <td>6.1</td>\n",
       "      <td>1.0</td>\n",
       "      <td>0.0</td>\n",
       "      <td>117.0</td>\n",
       "      <td>19 July, 2021</td>\n",
       "      <td>True</td>\n",
       "      <td>109</td>\n",
       "    </tr>\n",
       "    <tr>\n",
       "      <th>2</th>\n",
       "      <td>2</td>\n",
       "      <td>For The Warp</td>\n",
       "      <td>solid deck building space exploration/combat a...</td>\n",
       "      <td>7.7</td>\n",
       "      <td>1.0</td>\n",
       "      <td>0.0</td>\n",
       "      <td>42.0</td>\n",
       "      <td>22 January, 2021</td>\n",
       "      <td>True</td>\n",
       "      <td>63</td>\n",
       "    </tr>\n",
       "    <tr>\n",
       "      <th>3</th>\n",
       "      <td>3</td>\n",
       "      <td>For The Warp</td>\n",
       "      <td>often absolutely dependent on luck in the firs...</td>\n",
       "      <td>14.3</td>\n",
       "      <td>1.0</td>\n",
       "      <td>0.0</td>\n",
       "      <td>212.0</td>\n",
       "      <td>05 April, 2020</td>\n",
       "      <td>True</td>\n",
       "      <td>277</td>\n",
       "    </tr>\n",
       "    <tr>\n",
       "      <th>4</th>\n",
       "      <td>4</td>\n",
       "      <td>For The Warp</td>\n",
       "      <td>a nice game which lacks some polish at the mom...</td>\n",
       "      <td>5.7</td>\n",
       "      <td>1.0</td>\n",
       "      <td>0.0</td>\n",
       "      <td>1289.0</td>\n",
       "      <td>23 August, 2020</td>\n",
       "      <td>True</td>\n",
       "      <td>466</td>\n",
       "    </tr>\n",
       "  </tbody>\n",
       "</table>\n",
       "</div>"
      ],
      "text/plain": [
       "   Unnamed: 0     game_name  \\\n",
       "0           0  For The Warp   \n",
       "1           1  For The Warp   \n",
       "2           2  For The Warp   \n",
       "3           3  For The Warp   \n",
       "4           4  For The Warp   \n",
       "\n",
       "                                         review_text  hours_played  rating  \\\n",
       "0  good game i feel the graphics vibe of into the...          10.9     1.0   \n",
       "1  brilliant little game had so much fun with it ...           6.1     1.0   \n",
       "2  solid deck building space exploration/combat a...           7.7     1.0   \n",
       "3  often absolutely dependent on luck in the firs...          14.3     1.0   \n",
       "4  a nice game which lacks some polish at the mom...           5.7     1.0   \n",
       "\n",
       "   found_helpful  product_count         review_date  early_access  \\\n",
       "0            0.0          127.0  12 September, 2021          True   \n",
       "1            0.0          117.0       19 July, 2021          True   \n",
       "2            0.0           42.0    22 January, 2021          True   \n",
       "3            0.0          212.0      05 April, 2020          True   \n",
       "4            0.0         1289.0     23 August, 2020          True   \n",
       "\n",
       "   review_length  \n",
       "0            441  \n",
       "1            109  \n",
       "2             63  \n",
       "3            277  \n",
       "4            466  "
      ]
     },
     "execution_count": 142,
     "metadata": {},
     "output_type": "execute_result"
    }
   ],
   "source": [
    "cleaned = 1\n",
    "if cleaned:\n",
    "    reviews = pd.read_csv('reviews_1k_cleaned.csv', delimiter=\";\")\n",
    "else:\n",
    "    reviews = pd.read_csv('reviews_1k.csv', delimiter=\";\")\n",
    "reviews.head()"
   ]
  },
  {
   "cell_type": "code",
   "execution_count": 143,
   "metadata": {},
   "outputs": [],
   "source": [
    "X = reviews.drop('rating', axis=1)\n",
    "y = reviews.rating\n",
    "X_train, X_test, y_train, y_test = train_test_split(X, y, test_size=0.33, random_state=0)\n"
   ]
  },
  {
   "cell_type": "code",
   "execution_count": 144,
   "metadata": {},
   "outputs": [
    {
     "data": {
      "text/plain": [
       "989     1\n",
       "2690    1\n",
       "1043    1\n",
       "1983    0\n",
       "3750    0\n",
       "       ..\n",
       "743     1\n",
       "476     1\n",
       "3031    1\n",
       "456     1\n",
       "3004    0\n",
       "Name: review_text, Length: 1265, dtype: int64"
      ]
     },
     "execution_count": 144,
     "metadata": {},
     "output_type": "execute_result"
    }
   ],
   "source": [
    "from nltk.sentiment import SentimentIntensityAnalyzer\n",
    "sia = SentimentIntensityAnalyzer()\n",
    "\n",
    "def is_positive(review: str) -> int:\n",
    "    \"\"\"True if tweet has positive compound sentiment, False otherwise.\"\"\"\n",
    "    #return sia.polarity_scores(review)[\"compound\"] > 0\n",
    "    sentiment = 0\n",
    "    if sia.polarity_scores(review)[\"compound\"] > 0:\n",
    "        sentiment = 1\n",
    "\n",
    "    return sentiment\n",
    "\n",
    "sentiments = X_test.review_text.map(lambda review: is_positive(review))\n",
    "\n",
    "sentiments"
   ]
  },
  {
   "cell_type": "code",
   "execution_count": 145,
   "metadata": {},
   "outputs": [
    {
     "name": "stdout",
     "output_type": "stream",
     "text": [
      "[[174  81]\n",
      " [307 703]]\n"
     ]
    },
    {
     "data": {
      "image/png": "[encoded data removed]",
      "text/plain": [
       "<Figure size 432x288 with 2 Axes>"
      ]
     },
     "metadata": {
      "needs_background": "light"
     },
     "output_type": "display_data"
    },
    {
     "name": "stdout",
     "output_type": "stream",
     "text": [
      "\n",
      "Classification Report\n",
      "              precision    recall  f1-score   support\n",
      "\n",
      "         0.0       0.36      0.68      0.47       255\n",
      "         1.0       0.90      0.70      0.78      1010\n",
      "\n",
      "    accuracy                           0.69      1265\n",
      "   macro avg       0.63      0.69      0.63      1265\n",
      "weighted avg       0.79      0.69      0.72      1265\n",
      "\n"
     ]
    }
   ],
   "source": [
    "cf_matrix = confusion_matrix(y_test, sentiments)\n",
    "print(cf_matrix)\n",
    "\n",
    "ax = sns.heatmap(cf_matrix, annot=True, cmap='Blues')\n",
    "\n",
    "ax.set_title('Confusion Matrix with labels\\n\\n')\n",
    "ax.set_xlabel('\\nPredicted Values')\n",
    "ax.set_ylabel('Actual Values ')\n",
    "\n",
    "## Ticket labels - List must be in alphabetical order\n",
    "ax.xaxis.set_ticklabels(['Negative','Positive'])\n",
    "ax.yaxis.set_ticklabels(['Negative','Positive'])\n",
    "\n",
    "## Display the visualization of the Confusion Matrix.\n",
    "plt.show()\n",
    "\n",
    "# Classification Report\n",
    "print(\"\\nClassification Report\")\n",
    "report = classification_report(y_test, sentiments)\n",
    "print(report)\n"
   ]
  }
 ],
 "metadata": {
  "interpreter": {
   "hash": "e7370f93d1d0cde622a1f8e1c04877d8463912d04d973331ad4851f04de6915a"
  },
  "kernelspec": {
   "display_name": "Python 3.8.5 64-bit",
   "language": "python",
   "name": "python3"
  },
  "language_info": {
   "codemirror_mode": {
    "name": "ipython",
    "version": 3
   },
   "file_extension": ".py",
   "mimetype": "text/x-python",
   "name": "python",
   "nbconvert_exporter": "python",
   "pygments_lexer": "ipython3",
   "version": "3.8.5"
  },
  "orig_nbformat": 4
 },
 "nbformat": 4,
 "nbformat_minor": 2
}
